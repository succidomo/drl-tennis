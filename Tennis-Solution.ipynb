{
 "cells": [
  {
   "cell_type": "markdown",
   "metadata": {},
   "source": [
    "# Collaboration and Competition\n",
    "\n",
    "---\n",
    "\n",
    "In this notebook, you will learn how to use the Unity ML-Agents environment for the third project of the [Deep Reinforcement Learning Nanodegree](https://www.udacity.com/course/deep-reinforcement-learning-nanodegree--nd893) program.\n",
    "\n",
    "### 1. Start the Environment\n",
    "\n",
    "We begin by importing the necessary packages.  If the code cell below returns an error, please revisit the project instructions to double-check that you have installed [Unity ML-Agents](https://github.com/Unity-Technologies/ml-agents/blob/master/docs/Installation.md) and [NumPy](http://www.numpy.org/)."
   ]
  },
  {
   "cell_type": "code",
   "execution_count": 1,
   "metadata": {},
   "outputs": [],
   "source": [
    "from unityagents import UnityEnvironment\n",
    "import numpy as np\n",
    "#from ddpg_agent import Agent\n",
    "from maddpg_agent_v3 import MADDPG\n",
    "import matplotlib.pyplot as plt\n",
    "from collections import deque\n",
    "import torch"
   ]
  },
  {
   "cell_type": "markdown",
   "metadata": {},
   "source": [
    "Next, we will start the environment!  **_Before running the code cell below_**, change the `file_name` parameter to match the location of the Unity environment that you downloaded.\n",
    "\n",
    "- **Mac**: `\"path/to/Tennis.app\"`\n",
    "- **Windows** (x86): `\"path/to/Tennis_Windows_x86/Tennis.exe\"`\n",
    "- **Windows** (x86_64): `\"path/to/Tennis_Windows_x86_64/Tennis.exe\"`\n",
    "- **Linux** (x86): `\"path/to/Tennis_Linux/Tennis.x86\"`\n",
    "- **Linux** (x86_64): `\"path/to/Tennis_Linux/Tennis.x86_64\"`\n",
    "- **Linux** (x86, headless): `\"path/to/Tennis_Linux_NoVis/Tennis.x86\"`\n",
    "- **Linux** (x86_64, headless): `\"path/to/Tennis_Linux_NoVis/Tennis.x86_64\"`\n",
    "\n",
    "For instance, if you are using a Mac, then you downloaded `Tennis.app`.  If this file is in the same folder as the notebook, then the line below should appear as follows:\n",
    "```\n",
    "env = UnityEnvironment(file_name=\"Tennis.app\")\n",
    "```"
   ]
  },
  {
   "cell_type": "code",
   "execution_count": 2,
   "metadata": {},
   "outputs": [
    {
     "name": "stderr",
     "output_type": "stream",
     "text": [
      "INFO:unityagents:\n",
      "'Academy' started successfully!\n",
      "Unity Academy name: Academy\n",
      "        Number of Brains: 1\n",
      "        Number of External Brains : 1\n",
      "        Lesson number : 0\n",
      "        Reset Parameters :\n",
      "\t\t\n",
      "Unity brain name: TennisBrain\n",
      "        Number of Visual Observations (per agent): 0\n",
      "        Vector Observation space type: continuous\n",
      "        Vector Observation space size (per agent): 8\n",
      "        Number of stacked Vector Observation: 3\n",
      "        Vector Action space type: continuous\n",
      "        Vector Action space size (per agent): 2\n",
      "        Vector Action descriptions: , \n"
     ]
    }
   ],
   "source": [
    "env = UnityEnvironment(file_name=\"./Tennis_Windows_x86_64/Tennis.exe\", no_graphics=True)"
   ]
  },
  {
   "cell_type": "markdown",
   "metadata": {},
   "source": [
    "Environments contain **_brains_** which are responsible for deciding the actions of their associated agents. Here we check for the first brain available, and set it as the default brain we will be controlling from Python."
   ]
  },
  {
   "cell_type": "code",
   "execution_count": 3,
   "metadata": {},
   "outputs": [
    {
     "name": "stdout",
     "output_type": "stream",
     "text": [
      "MADDPG module path: c:\\Users\\succi\\repos\\drl-tennis\\maddpg_agent_v3.py\n",
      "learn() md5: f1fd12456a415b5d3be366b0edaf21bc\n",
      "['    def learn(self, experiences, gamma):', '        # each agent uses its own actor to calculate next_actions', '        all_next_actions = []', '        all_actions = []', '        for i, agent in enumerate(self.agents):', '            states, _, _, next_states, _ = experiences[i]', '            agent_id = torch.tensor([i]).to(device)', \"            # extract agent i's state and get action via actor network\", '            state = states.reshape(-1, 2, 24).index_select(1, agent_id).squeeze(1)', '            action = agent.actor_local(state)', '            all_actions.append(action)', \"            # extract agent i's next state and get action via target actor network\", '            next_state = next_states.reshape(-1, 2, 24).index_select(1, agent_id).squeeze(1)', '            next_action = agent.actor_target(next_state)', '            all_next_actions.append(next_action)', '                       ', '        # each agent learns from its experience sample', '        for i, agent in enumerate(self.agents):', '            agent.learn(i, experiences[i], gamma, all_next_actions, all_actions)']\n"
     ]
    }
   ],
   "source": [
    "# get the default brain\n",
    "brain_name = env.brain_names[0]\n",
    "brain = env.brains[brain_name]\n",
    "\n",
    "\n",
    "import sys, importlib, inspect, hashlib\n",
    "import maddpg_agent_v3\n",
    "\n",
    "# 1) WHICH FILE is actually being imported?\n",
    "print(\"MADDPG module path:\", maddpg_agent_v3.__file__)\n",
    "\n",
    "# 2) DID the 'learn' body change? (fingerprint it)\n",
    "src = inspect.getsource(maddpg_agent_v3.MADDPG.learn).encode()\n",
    "print(\"learn() md5:\", hashlib.md5(src).hexdigest())\n",
    "\n",
    "# 3) WHAT hyperparams are in the module *right now*?\n",
    "# print(\"TAU:\", maddpg_agent_v2.TAU)\n",
    "# print(\"GAMMA:\", maddpg_agent_v2.GAMMA)\n",
    "# print(\"OU SIGMA DECAY:\", maddpg_agent_v2.OU_SIGMA_DECAY)\n",
    "\n",
    "# 4) OPTIONAL: show the exact a_all_next logic line\n",
    "print(inspect.getsource(maddpg_agent_v3.MADDPG.learn).splitlines()[0:80])  # glance at smoothing code"
   ]
  },
  {
   "cell_type": "markdown",
   "metadata": {},
   "source": [
    "### 2. Examine the State and Action Spaces\n",
    "\n",
    "In this environment, two agents control rackets to bounce a ball over a net. If an agent hits the ball over the net, it receives a reward of +0.1.  If an agent lets a ball hit the ground or hits the ball out of bounds, it receives a reward of -0.01.  Thus, the goal of each agent is to keep the ball in play.\n",
    "\n",
    "The observation space consists of 8 variables corresponding to the position and velocity of the ball and racket. Two continuous actions are available, corresponding to movement toward (or away from) the net, and jumping. \n",
    "\n",
    "Run the code cell below to print some information about the environment."
   ]
  },
  {
   "cell_type": "code",
   "execution_count": 4,
   "metadata": {},
   "outputs": [
    {
     "name": "stdout",
     "output_type": "stream",
     "text": [
      "Number of agents: 2\n",
      "Size of each action: 2\n",
      "There are 2 agents. Each observes a state with length: 24\n",
      "The state for the first agent looks like: [ 0.          0.          0.          0.          0.          0.\n",
      "  0.          0.          0.          0.          0.          0.\n",
      "  0.          0.          0.          0.         -6.65278625 -1.5\n",
      " -0.          0.          6.83172083  6.         -0.          0.        ]\n"
     ]
    }
   ],
   "source": [
    "# reset the environment\n",
    "env_info = env.reset(train_mode=True)[brain_name]\n",
    "\n",
    "# number of agents \n",
    "num_agents = len(env_info.agents)\n",
    "print('Number of agents:', num_agents)\n",
    "\n",
    "# size of each action\n",
    "action_size = brain.vector_action_space_size\n",
    "print('Size of each action:', action_size)\n",
    "\n",
    "# examine the state space \n",
    "states = env_info.vector_observations\n",
    "state_size = states.shape[1]\n",
    "print('There are {} agents. Each observes a state with length: {}'.format(states.shape[0], state_size))\n",
    "print('The state for the first agent looks like:', states[0])\n",
    "\n",
    "#agent1 = Agent(state_size=state_size, action_size=action_size, random_seed=0,num_agents=1)\n",
    "#agent2 = Agent(state_size=state_size, action_size=action_size, random_seed=0,num_agents=1)\n",
    "\n",
    "#maddpg = MADDPG(noise_start=0.5, state_size=state_size, action_size=action_size, num_agents=2, random_seed=2)\n",
    "maddpg = MADDPG(seed=2, noise_start=0.5, update_every=2, gamma=0.99, t_stop_noise=30000)\n",
    "\n",
    "def plot_scores(scores, window=100, solved_score=30.0, savepath=None):\n",
    "    \"\"\"\n",
    "    Plot per-episode scores and a moving average.\n",
    "    Args:\n",
    "        scores (list[float]): one score per episode\n",
    "        window (int): moving-average window (Udacity uses 100)\n",
    "        solved_score (float): horizontal reference line (30 for Reacher)\n",
    "        savepath (str|None): if set, saves the figure to this path\n",
    "    \"\"\"\n",
    "    scores = np.asarray(scores, dtype=float)\n",
    "    episodes = np.arange(1, len(scores) + 1)\n",
    "\n",
    "    # moving average (uses cumulative average if fewer than window points)\n",
    "    if len(scores) >= window:\n",
    "        ma = np.convolve(scores, np.ones(window)/window, mode='valid')\n",
    "        ma_x = np.arange(window, len(scores) + 1)\n",
    "    else:\n",
    "        ma = np.cumsum(scores) / episodes\n",
    "        ma_x = episodes\n",
    "\n",
    "    fig, ax = plt.subplots()\n",
    "    ax.plot(episodes, scores, label=\"Score per episode\")\n",
    "    ax.plot(ma_x, ma, label=(f\"Moving avg ({window})\" if len(scores) >= window else \"Cumulative avg\"))\n",
    "    ax.set_xlabel(\"Episode\")\n",
    "    ax.set_ylabel(\"Score\")\n",
    "    ax.set_title(\"Training performance\")\n",
    "    ax.legend(loc=\"best\")\n",
    "    if solved_score is not None:\n",
    "        ax.axhline(solved_score, linestyle=\"--\", linewidth=1)\n",
    "    if savepath:\n",
    "        fig.savefig(savepath, dpi=150, bbox_inches=\"tight\")\n",
    "    plt.show()"
   ]
  },
  {
   "cell_type": "markdown",
   "metadata": {},
   "source": [
    "### 3. Take Random Actions in the Environment\n",
    "\n",
    "In the next code cell, you will learn how to use the Python API to control the agents and receive feedback from the environment.\n",
    "\n",
    "Once this cell is executed, you will watch the agents' performance, if they select actions at random with each time step.  A window should pop up that allows you to observe the agents.\n",
    "\n",
    "Of course, as part of the project, you'll have to change the code so that the agents are able to use their experiences to gradually choose better actions when interacting with the environment!"
   ]
  },
  {
   "cell_type": "code",
   "execution_count": 5,
   "metadata": {},
   "outputs": [
    {
     "name": "stderr",
     "output_type": "stream",
     "text": [
      "c:\\Users\\succi\\anaconda3\\envs\\drlnd\\lib\\site-packages\\torch\\nn\\functional.py:995: UserWarning: nn.functional.tanh is deprecated. Use torch.tanh instead.\n",
      "  warnings.warn(\"nn.functional.tanh is deprecated. Use torch.tanh instead.\")\n"
     ]
    },
    {
     "name": "stdout",
     "output_type": "stream",
     "text": [
      "Episode 100\tAverage Score: 0.008\n",
      "Episode 200\tAverage Score: 0.007\n",
      "Episode 300\tAverage Score: 0.004\n",
      "Episode 400\tAverage Score: 0.003\n",
      "Episode 500\tAverage Score: 0.001\n",
      "Episode 600\tAverage Score: 0.016\n",
      "Episode 700\tAverage Score: 0.010\n",
      "Episode 800\tAverage Score: 0.042\n",
      "Episode 900\tAverage Score: 0.048\n",
      "Episode 1000\tAverage Score: 0.043\n",
      "Episode 1100\tAverage Score: 0.029\n",
      "Episode 1200\tAverage Score: 0.059\n",
      "Episode 1300\tAverage Score: 0.071\n",
      "Episode 1400\tAverage Score: 0.091\n",
      "Episode 1500\tAverage Score: 0.080\n",
      "Episode 1600\tAverage Score: 0.089\n",
      "Episode 1700\tAverage Score: 0.076\n",
      "Episode 1800\tAverage Score: 0.083\n",
      "Episode 1900\tAverage Score: 0.094\n",
      "Episode 2000\tAverage Score: 0.089\n",
      "Episode 2100\tAverage Score: 0.086\n",
      "Episode 2200\tAverage Score: 0.095\n",
      "Episode 2300\tAverage Score: 0.090\n",
      "Episode 2400\tAverage Score: 0.094\n",
      "Episode 2500\tAverage Score: 0.060\n",
      "Episode 2600\tAverage Score: 0.065\n",
      "Episode 2700\tAverage Score: 0.094\n",
      "Episode 2800\tAverage Score: 0.096\n",
      "Episode 2900\tAverage Score: 0.100\n",
      "Episode 3000\tAverage Score: 0.136\n",
      "Episode 3100\tAverage Score: 0.397\n",
      "Episode 3137\tAverage Score: 0.501\n",
      "Environment solved in 3137 episodes!\tAverage Score: 0.501\n"
     ]
    },
    {
     "data": {
      "image/png": "[encoded data removed]",
      "text/plain": [
       "<Figure size 432x288 with 1 Axes>"
      ]
     },
     "metadata": {
      "needs_background": "light"
     },
     "output_type": "display_data"
    }
   ],
   "source": [
    "def ddpg(n_episodes=5000, print_every=100):\n",
    "    scores_deque = deque(maxlen=100)     # 100-episode window\n",
    "    scores = []                          # episode scores (one scalar per episode)\n",
    "    scores_avg = []\n",
    "\n",
    "    for i_episode in range(1, n_episodes+1):\n",
    "        env_info = env.reset(train_mode=True)[brain_name]\n",
    "        states = env_info.vector_observations                      # shape: (2, state_size)\n",
    "        scorestab = np.zeros(num_agents)  \n",
    "        rewardslist = []\n",
    "\n",
    "\n",
    "        while True:\n",
    "            actions = maddpg.act(states, i_episode)                # (2, action_size), float32 in [-1,1]\n",
    "            #print(f\"\\rEpisode: {i_episode}\\tactions: {actions}\")\n",
    "            env_info   = env.step(actions)[brain_name]\n",
    "            next_states = env_info.vector_observations\n",
    "            rewards     = env_info.rewards               # [r1, r2]\n",
    "            dones       = env_info.local_done            # [d1, d2]\n",
    "            scorestab += env_info.rewards \n",
    "\n",
    "            maddpg.step(states, actions, rewards, next_states, dones)\n",
    "\n",
    "            states = next_states\n",
    "            rewardslist.append(rewards)\n",
    "\n",
    "            if np.any(dones):\n",
    "                break\n",
    "\n",
    "        # Udacity Tennis uses the max of the two agents per episode\n",
    "        episode_reward = np.max(np.sum(np.array(rewardslist),axis=0))\n",
    "        #ep_score = max(ep_ret_1, ep_ret_2)     \n",
    "        scores_deque.append(episode_reward)\n",
    "        #scores.append(ep_score)\n",
    "        scores.append(episode_reward)   \n",
    "        current_avg_score = np.mean(scores_deque)\n",
    "        scores_avg.append(current_avg_score) \n",
    "\n",
    "        print('\\rEpisode {}\\tAverage Score: {:.3f}'.format(i_episode, current_avg_score),end=\"\")\n",
    "\n",
    "        if i_episode % print_every == 0:\n",
    "            print('\\rEpisode {}\\tAverage Score: {:.3f}'.format(i_episode, current_avg_score))\n",
    "       \n",
    "        # break and report success if environment is solved\n",
    "        if np.mean(scores_deque)>=.5:\n",
    "            print('\\nEnvironment solved in {:d} episodes!\\tAverage Score: {:.3f}'.format(i_episode, np.mean(scores_deque)))\n",
    "            #agent.save_agents()\n",
    "            break\n",
    "\n",
    "        # Solve when moving average over last 100 episodes >= 0.5\n",
    "        if len(scores_deque) == 100 and current_avg_score >= 0.5:\n",
    "            print(f\"\\n\\nEnvironment solved in {i_episode} episodes!\\tAvg(100): {current_avg_score:.4f}\")\n",
    "\n",
    "            torch.save(maddpg.actors_local[0].state_dict(), 'actor1.pth')\n",
    "            torch.save(maddpg.actors_local[1].state_dict(), 'actor2.pth')\n",
    "            torch.save(maddpg.critics_local[0].state_dict(), 'critic1.pth')\n",
    "            torch.save(maddpg.critics_local[1].state_dict(), 'critic2.pth')\n",
    "\n",
    "            break\n",
    "\n",
    "    return scores\n",
    "\n",
    "\n",
    "\n",
    "scores = ddpg()\n",
    "\n",
    "plot_scores(scores, window=100, solved_score=.5, savepath=\"tennis_scores.png\")"
   ]
  },
  {
   "cell_type": "markdown",
   "metadata": {},
   "source": [
    "When finished, you can close the environment."
   ]
  },
  {
   "cell_type": "code",
   "execution_count": 6,
   "metadata": {},
   "outputs": [],
   "source": [
    "env.close()"
   ]
  },
  {
   "cell_type": "markdown",
   "metadata": {},
   "source": [
    "### 4. It's Your Turn!\n",
    "\n",
    "Now it's your turn to train your own agent to solve the environment!  When training the environment, set `train_mode=True`, so that the line for resetting the environment looks like the following:\n",
    "```python\n",
    "env_info = env.reset(train_mode=True)[brain_name]\n",
    "```"
   ]
  }
 ],
 "metadata": {
  "kernelspec": {
   "display_name": "drlnd",
   "language": "python",
   "name": "drlnd"
  },
  "language_info": {
   "codemirror_mode": {
    "name": "ipython",
    "version": 3
   },
   "file_extension": ".py",
   "mimetype": "text/x-python",
   "name": "python",
   "nbconvert_exporter": "python",
   "pygments_lexer": "ipython3",
   "version": "3.6.13"
  }
 },
 "nbformat": 4,
 "nbformat_minor": 2
}
