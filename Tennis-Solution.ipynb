{
 "cells": [
  {
   "cell_type": "markdown",
   "metadata": {},
   "source": [
    "# Collaboration and Competition\n",
    "\n",
    "---\n",
    "\n",
    "In this notebook, you will learn how to use the Unity ML-Agents environment for the third project of the [Deep Reinforcement Learning Nanodegree](https://www.udacity.com/course/deep-reinforcement-learning-nanodegree--nd893) program.\n",
    "\n",
    "### 1. Start the Environment\n",
    "\n",
    "We begin by importing the necessary packages.  If the code cell below returns an error, please revisit the project instructions to double-check that you have installed [Unity ML-Agents](https://github.com/Unity-Technologies/ml-agents/blob/master/docs/Installation.md) and [NumPy](http://www.numpy.org/)."
   ]
  },
  {
   "cell_type": "code",
   "execution_count": 1,
   "metadata": {},
   "outputs": [],
   "source": [
    "from unityagents import UnityEnvironment\n",
    "import numpy as np\n",
    "#from ddpg_agent import Agent\n",
    "from maddpg_agent_v4_fixed import MADDPG\n",
    "import matplotlib.pyplot as plt\n",
    "from collections import deque\n",
    "import torch"
   ]
  },
  {
   "cell_type": "markdown",
   "metadata": {},
   "source": [
    "Next, we will start the environment!  **_Before running the code cell below_**, change the `file_name` parameter to match the location of the Unity environment that you downloaded.\n",
    "\n",
    "- **Mac**: `\"path/to/Tennis.app\"`\n",
    "- **Windows** (x86): `\"path/to/Tennis_Windows_x86/Tennis.exe\"`\n",
    "- **Windows** (x86_64): `\"path/to/Tennis_Windows_x86_64/Tennis.exe\"`\n",
    "- **Linux** (x86): `\"path/to/Tennis_Linux/Tennis.x86\"`\n",
    "- **Linux** (x86_64): `\"path/to/Tennis_Linux/Tennis.x86_64\"`\n",
    "- **Linux** (x86, headless): `\"path/to/Tennis_Linux_NoVis/Tennis.x86\"`\n",
    "- **Linux** (x86_64, headless): `\"path/to/Tennis_Linux_NoVis/Tennis.x86_64\"`\n",
    "\n",
    "For instance, if you are using a Mac, then you downloaded `Tennis.app`.  If this file is in the same folder as the notebook, then the line below should appear as follows:\n",
    "```\n",
    "env = UnityEnvironment(file_name=\"Tennis.app\")\n",
    "```"
   ]
  },
  {
   "cell_type": "code",
   "execution_count": 2,
   "metadata": {},
   "outputs": [
    {
     "name": "stderr",
     "output_type": "stream",
     "text": [
      "INFO:unityagents:\n",
      "'Academy' started successfully!\n",
      "Unity Academy name: Academy\n",
      "        Number of Brains: 1\n",
      "        Number of External Brains : 1\n",
      "        Lesson number : 0\n",
      "        Reset Parameters :\n",
      "\t\t\n",
      "Unity brain name: TennisBrain\n",
      "        Number of Visual Observations (per agent): 0\n",
      "        Vector Observation space type: continuous\n",
      "        Vector Observation space size (per agent): 8\n",
      "        Number of stacked Vector Observation: 3\n",
      "        Vector Action space type: continuous\n",
      "        Vector Action space size (per agent): 2\n",
      "        Vector Action descriptions: , \n"
     ]
    }
   ],
   "source": [
    "env = UnityEnvironment(file_name=\"./Tennis_Windows_x86_64/Tennis.exe\", no_graphics=True)"
   ]
  },
  {
   "cell_type": "markdown",
   "metadata": {},
   "source": [
    "Environments contain **_brains_** which are responsible for deciding the actions of their associated agents. Here we check for the first brain available, and set it as the default brain we will be controlling from Python."
   ]
  },
  {
   "cell_type": "code",
   "execution_count": 3,
   "metadata": {},
   "outputs": [
    {
     "name": "stdout",
     "output_type": "stream",
     "text": [
      "MADDPG module path: c:\\Users\\succi\\repos\\drl-tennis\\maddpg_agent_v4_fixed.py\n",
      "learn() md5: 8c8e8859b156d5fd27004ac64e7ed1f7\n",
      "['    def learn(self, experiences, gamma):', '        all_next_actions = []', '        all_actions = []', '        states, actions, rewards, next_states, dones = experiences  # Single shared batch', '        for i, agent in enumerate(self.agents):', '            agent_id = torch.tensor([i]).to(device)', '            state = states.reshape(-1, self.n_agents, 24).index_select(1, agent_id).squeeze(1)  # Adjust for n_agents', '            action = agent.actor_local(state)', '            all_actions.append(action)', '            next_state = next_states.reshape(-1, self.n_agents, 24).index_select(1, agent_id).squeeze(1)', '            next_action = agent.actor_target(next_state)', '            all_next_actions.append(next_action)', '        for i, agent in enumerate(self.agents):', '            agent.learn(i, experiences, gamma, all_next_actions, all_actions)']\n"
     ]
    }
   ],
   "source": [
    "# get the default brain\n",
    "brain_name = env.brain_names[0]\n",
    "brain = env.brains[brain_name]\n",
    "\n",
    "\n",
    "import sys, importlib, inspect, hashlib\n",
    "import maddpg_agent_v4_fixed\n",
    "\n",
    "# 1) WHICH FILE is actually being imported?\n",
    "print(\"MADDPG module path:\", maddpg_agent_v4_fixed.__file__)\n",
    "\n",
    "# 2) DID the 'learn' body change? (fingerprint it)\n",
    "src = inspect.getsource(maddpg_agent_v4_fixed.MADDPG.learn).encode()\n",
    "print(\"learn() md5:\", hashlib.md5(src).hexdigest())\n",
    "\n",
    "print(inspect.getsource(maddpg_agent_v4_fixed.MADDPG.learn).splitlines()[0:80])  # glance at smoothing code"
   ]
  },
  {
   "cell_type": "markdown",
   "metadata": {},
   "source": [
    "### 2. Examine the State and Action Spaces\n",
    "\n",
    "In this environment, two agents control rackets to bounce a ball over a net. If an agent hits the ball over the net, it receives a reward of +0.1.  If an agent lets a ball hit the ground or hits the ball out of bounds, it receives a reward of -0.01.  Thus, the goal of each agent is to keep the ball in play.\n",
    "\n",
    "The observation space consists of 8 variables corresponding to the position and velocity of the ball and racket. Two continuous actions are available, corresponding to movement toward (or away from) the net, and jumping. \n",
    "\n",
    "Run the code cell below to print some information about the environment."
   ]
  },
  {
   "cell_type": "code",
   "execution_count": 4,
   "metadata": {},
   "outputs": [
    {
     "name": "stdout",
     "output_type": "stream",
     "text": [
      "Number of agents: 2\n",
      "Size of each action: 2\n",
      "There are 2 agents. Each observes a state with length: 24\n",
      "The state for the first agent looks like: [ 0.          0.          0.          0.          0.          0.\n",
      "  0.          0.          0.          0.          0.          0.\n",
      "  0.          0.          0.          0.         -6.65278625 -1.5\n",
      " -0.          0.          6.83172083  6.         -0.          0.        ]\n"
     ]
    }
   ],
   "source": [
    "# reset the environment\n",
    "env_info = env.reset(train_mode=True)[brain_name]\n",
    "\n",
    "# number of agents \n",
    "num_agents = len(env_info.agents)\n",
    "print('Number of agents:', num_agents)\n",
    "\n",
    "# size of each action\n",
    "action_size = brain.vector_action_space_size\n",
    "print('Size of each action:', action_size)\n",
    "\n",
    "# examine the state space \n",
    "states = env_info.vector_observations\n",
    "state_size = states.shape[1]\n",
    "print('There are {} agents. Each observes a state with length: {}'.format(states.shape[0], state_size))\n",
    "print('The state for the first agent looks like:', states[0])\n",
    "\n",
    "maddpg = MADDPG(seed=2, noise_start=0.5, update_every=2, gamma=0.99, t_stop_noise=30000, buffer_size=1000000, batch_size=1024)\n",
    "\n",
    "def plot_scores(scores, window=100, solved_score=30.0, savepath=None):\n",
    "    \"\"\"\n",
    "    Plot per-episode scores and a moving average.\n",
    "    Args:\n",
    "        scores (list[float]): one score per episode\n",
    "        window (int): moving-average window (Udacity uses 100)\n",
    "        solved_score (float): horizontal reference line (30 for Reacher)\n",
    "        savepath (str|None): if set, saves the figure to this path\n",
    "    \"\"\"\n",
    "    scores = np.asarray(scores, dtype=float)\n",
    "    episodes = np.arange(1, len(scores) + 1)\n",
    "\n",
    "    # moving average (uses cumulative average if fewer than window points)\n",
    "    if len(scores) >= window:\n",
    "        ma = np.convolve(scores, np.ones(window)/window, mode='valid')\n",
    "        ma_x = np.arange(window, len(scores) + 1)\n",
    "    else:\n",
    "        ma = np.cumsum(scores) / episodes\n",
    "        ma_x = episodes\n",
    "\n",
    "    fig, ax = plt.subplots()\n",
    "    ax.plot(episodes, scores, label=\"Score per episode\")\n",
    "    ax.plot(ma_x, ma, label=(f\"Moving avg ({window})\" if len(scores) >= window else \"Cumulative avg\"))\n",
    "    ax.set_xlabel(\"Episode\")\n",
    "    ax.set_ylabel(\"Score\")\n",
    "    ax.set_title(\"Training performance\")\n",
    "    ax.legend(loc=\"best\")\n",
    "    if solved_score is not None:\n",
    "        ax.axhline(solved_score, linestyle=\"--\", linewidth=1)\n",
    "    if savepath:\n",
    "        fig.savefig(savepath, dpi=150, bbox_inches=\"tight\")\n",
    "    plt.show()"
   ]
  },
  {
   "cell_type": "markdown",
   "metadata": {},
   "source": [
    "### 3. Train Agent\n",
    "\n",
    "The environment is trained using a multi-agent actor critic method.  Model weights are saved and rewards are plotted.  The training is stopped after the last 100 averaged rewards \n",
    "\n",
    "exceed 0.5 where the environment is considered solved. "
   ]
  },
  {
   "cell_type": "code",
   "execution_count": 5,
   "metadata": {},
   "outputs": [
    {
     "name": "stdout",
     "output_type": "stream",
     "text": [
      "Episode 100\tAverage Score: 0.007\n",
      "Episode 200\tAverage Score: 0.002\n",
      "Episode 300\tAverage Score: 0.018\n",
      "Episode 400\tAverage Score: 0.018\n",
      "Episode 500\tAverage Score: 0.026\n",
      "Episode 600\tAverage Score: 0.037\n",
      "Episode 700\tAverage Score: 0.050\n",
      "Episode 800\tAverage Score: 0.061\n",
      "Episode 900\tAverage Score: 0.057\n",
      "Episode 1000\tAverage Score: 0.081\n",
      "Episode 1100\tAverage Score: 0.085\n",
      "Episode 1200\tAverage Score: 0.099\n",
      "Episode 1300\tAverage Score: 0.097\n",
      "Episode 1400\tAverage Score: 0.105\n",
      "Episode 1500\tAverage Score: 0.114\n",
      "Episode 1600\tAverage Score: 0.132\n",
      "Episode 1700\tAverage Score: 0.118\n",
      "Episode 1800\tAverage Score: 0.195\n",
      "Episode 1900\tAverage Score: 0.251\n",
      "Episode 1929\tAverage Score: 0.513\n",
      "Environment solved in 1929 episodes!\tAverage Score: 0.513\n"
     ]
    },
    {
     "data": {
      "image/png": "[encoded data removed]",
      "text/plain": [
       "<Figure size 432x288 with 1 Axes>"
      ]
     },
     "metadata": {
      "needs_background": "light"
     },
     "output_type": "display_data"
    }
   ],
   "source": [
    "def ddpg(n_episodes=5000, print_every=100):\n",
    "    scores_deque = deque(maxlen=100)     # 100-episode window\n",
    "    scores = []                          # episode scores (one scalar per episode)\n",
    "    scores_avg = []\n",
    "\n",
    "    for i_episode in range(1, n_episodes+1):\n",
    "        env_info = env.reset(train_mode=True)[brain_name]\n",
    "        states = env_info.vector_observations                      # shape: (2, state_size)\n",
    "        scorestab = np.zeros(num_agents)  \n",
    "        rewardslist = []\n",
    "\n",
    "\n",
    "        while True:\n",
    "            actions = maddpg.act(states, i_episode)                # (2, action_size), float32 in [-1,1]\n",
    "            #print(f\"\\rEpisode: {i_episode}\\tactions: {actions}\")\n",
    "            env_info   = env.step(actions)[brain_name]\n",
    "            next_states = env_info.vector_observations\n",
    "            rewards     = env_info.rewards               # [r1, r2]\n",
    "            dones       = env_info.local_done            # [d1, d2]\n",
    "            scorestab += env_info.rewards \n",
    "\n",
    "            maddpg.step(states, actions, rewards, next_states, dones)\n",
    "\n",
    "            states = next_states\n",
    "            rewardslist.append(rewards)\n",
    "\n",
    "            if np.any(dones):\n",
    "                break\n",
    "\n",
    "        # Udacity Tennis uses the max of the two agents per episode\n",
    "        episode_reward = np.max(np.sum(np.array(rewardslist),axis=0))\n",
    "  \n",
    "        scores_deque.append(episode_reward)\n",
    "\n",
    "        scores.append(episode_reward)   \n",
    "        current_avg_score = np.mean(scores_deque)\n",
    "        scores_avg.append(current_avg_score) \n",
    "\n",
    "        print('\\rEpisode {}\\tAverage Score: {:.3f}'.format(i_episode, current_avg_score),end=\"\")\n",
    "\n",
    "        if i_episode % print_every == 0:\n",
    "            print('\\rEpisode {}\\tAverage Score: {:.3f}'.format(i_episode, current_avg_score))\n",
    "       \n",
    "        if np.mean(scores_deque)>=.5:\n",
    "            print('\\nEnvironment solved in {:d} episodes!\\tAverage Score: {:.3f}'.format(i_episode, np.mean(scores_deque)))\n",
    "            maddpg.save_agents()\n",
    "            break\n",
    "\n",
    "    return scores\n",
    "\n",
    "\n",
    "\n",
    "scores = ddpg()\n",
    "\n",
    "plot_scores(scores, window=100, solved_score=.5, savepath=\"tennis_scores.png\")"
   ]
  },
  {
   "cell_type": "markdown",
   "metadata": {},
   "source": [
    "When finished, you can close the environment."
   ]
  },
  {
   "cell_type": "code",
   "execution_count": 8,
   "metadata": {},
   "outputs": [
    {
     "ename": "UnityEnvironmentException",
     "evalue": "No Unity environment is loaded.",
     "output_type": "error",
     "traceback": [
      "\u001b[1;31m---------------------------------------------------------------------------\u001b[0m",
      "\u001b[1;31mUnityEnvironmentException\u001b[0m                 Traceback (most recent call last)",
      "\u001b[1;32m<ipython-input-8-1baceacf4cb1>\u001b[0m in \u001b[0;36m<module>\u001b[1;34m\u001b[0m\n\u001b[1;32m----> 1\u001b[1;33m \u001b[0menv\u001b[0m\u001b[1;33m.\u001b[0m\u001b[0mclose\u001b[0m\u001b[1;33m(\u001b[0m\u001b[1;33m)\u001b[0m\u001b[1;33m\u001b[0m\u001b[1;33m\u001b[0m\u001b[0m\n\u001b[0m",
      "\u001b[1;32mc:\\Users\\succi\\anaconda3\\envs\\drlnd\\lib\\site-packages\\unityagents\\environment.py\u001b[0m in \u001b[0;36mclose\u001b[1;34m(self)\u001b[0m\n\u001b[0;32m    392\u001b[0m             \u001b[0mself\u001b[0m\u001b[1;33m.\u001b[0m\u001b[0m_close\u001b[0m\u001b[1;33m(\u001b[0m\u001b[1;33m)\u001b[0m\u001b[1;33m\u001b[0m\u001b[1;33m\u001b[0m\u001b[0m\n\u001b[0;32m    393\u001b[0m         \u001b[1;32melse\u001b[0m\u001b[1;33m:\u001b[0m\u001b[1;33m\u001b[0m\u001b[1;33m\u001b[0m\u001b[0m\n\u001b[1;32m--> 394\u001b[1;33m             \u001b[1;32mraise\u001b[0m \u001b[0mUnityEnvironmentException\u001b[0m\u001b[1;33m(\u001b[0m\u001b[1;34m\"No Unity environment is loaded.\"\u001b[0m\u001b[1;33m)\u001b[0m\u001b[1;33m\u001b[0m\u001b[1;33m\u001b[0m\u001b[0m\n\u001b[0m\u001b[0;32m    395\u001b[0m \u001b[1;33m\u001b[0m\u001b[0m\n\u001b[0;32m    396\u001b[0m     \u001b[1;32mdef\u001b[0m \u001b[0m_close\u001b[0m\u001b[1;33m(\u001b[0m\u001b[0mself\u001b[0m\u001b[1;33m)\u001b[0m\u001b[1;33m:\u001b[0m\u001b[1;33m\u001b[0m\u001b[1;33m\u001b[0m\u001b[0m\n",
      "\u001b[1;31mUnityEnvironmentException\u001b[0m: No Unity environment is loaded."
     ]
    }
   ],
   "source": [
    "env.close()"
   ]
  },
  {
   "cell_type": "markdown",
   "metadata": {},
   "source": [
    "# Run the trained agent in the tennis environment"
   ]
  },
  {
   "cell_type": "code",
   "execution_count": null,
   "metadata": {},
   "outputs": [
    {
     "name": "stdout",
     "output_type": "stream",
     "text": [
      "Episode 1\tMax Score: 0.40\n",
      "Episode 2\tMax Score: 0.30\n",
      "Episode 3\tMax Score: 0.19\n",
      "Episode 4\tMax Score: 0.40\n"
     ]
    }
   ],
   "source": [
    "# Load the trained actor models (critics not needed for inference)\n",
    "maddpg.agents[0].actor_local.load_state_dict(torch.load('checkpoint_actor_agent_0.pth'))\n",
    "maddpg.agents[1].actor_local.load_state_dict(torch.load('checkpoint_actor_agent_1.pth'))\n",
    "\n",
    "# Set actors to eval mode\n",
    "maddpg.agents[0].actor_local.eval()\n",
    "maddpg.agents[1].actor_local.eval()\n",
    "\n",
    "# Run 5 episodes to watch the agents (adjust as needed)\n",
    "for i_episode in range(1, 6):\n",
    "    env_info = env.reset(train_mode=False)[brain_name]  # train_mode=False for slower, watchable speed\n",
    "    states = env_info.vector_observations\n",
    "    scores = np.zeros(num_agents)\n",
    "    while True:\n",
    "        actions = maddpg.act(states, numepisode=0, add_noise=False)  # No noise for trained policy\n",
    "        env_info = env.step(actions)[brain_name]\n",
    "        next_states = env_info.vector_observations\n",
    "        rewards = env_info.rewards\n",
    "        dones = env_info.local_done\n",
    "        scores += rewards\n",
    "        states = next_states\n",
    "        if np.any(dones):\n",
    "            break\n",
    "    print(f'Episode {i_episode}\\tMax Score: {np.max(scores):.2f}')"
   ]
  }
 ],
 "metadata": {
  "kernelspec": {
   "display_name": "drlnd",
   "language": "python",
   "name": "drlnd"
  },
  "language_info": {
   "codemirror_mode": {
    "name": "ipython",
    "version": 3
   },
   "file_extension": ".py",
   "mimetype": "text/x-python",
   "name": "python",
   "nbconvert_exporter": "python",
   "pygments_lexer": "ipython3",
   "version": "3.6.13"
  }
 },
 "nbformat": 4,
 "nbformat_minor": 2
}
