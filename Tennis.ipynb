{
 "cells": [
  {
   "cell_type": "markdown",
   "metadata": {},
   "source": [
    "# Collaboration and Competition\n",
    "\n",
    "---\n",
    "\n",
    "In this notebook, you will learn how to use the Unity ML-Agents environment for the third project of the [Deep Reinforcement Learning Nanodegree](https://www.udacity.com/course/deep-reinforcement-learning-nanodegree--nd893) program.\n",
    "\n",
    "### 1. Start the Environment\n",
    "\n",
    "We begin by importing the necessary packages.  If the code cell below returns an error, please revisit the project instructions to double-check that you have installed [Unity ML-Agents](https://github.com/Unity-Technologies/ml-agents/blob/master/docs/Installation.md) and [NumPy](http://www.numpy.org/)."
   ]
  },
  {
   "cell_type": "code",
   "execution_count": 2,
   "metadata": {},
   "outputs": [],
   "source": [
    "from unityagents import UnityEnvironment\n",
    "import numpy as np\n",
    "#from ddpg_agent import Agent\n",
    "from maddpg_agent_v2 import MADDPG\n",
    "import matplotlib.pyplot as plt\n",
    "from collections import deque\n",
    "import torch"
   ]
  },
  {
   "cell_type": "markdown",
   "metadata": {},
   "source": [
    "Next, we will start the environment!  **_Before running the code cell below_**, change the `file_name` parameter to match the location of the Unity environment that you downloaded.\n",
    "\n",
    "- **Mac**: `\"path/to/Tennis.app\"`\n",
    "- **Windows** (x86): `\"path/to/Tennis_Windows_x86/Tennis.exe\"`\n",
    "- **Windows** (x86_64): `\"path/to/Tennis_Windows_x86_64/Tennis.exe\"`\n",
    "- **Linux** (x86): `\"path/to/Tennis_Linux/Tennis.x86\"`\n",
    "- **Linux** (x86_64): `\"path/to/Tennis_Linux/Tennis.x86_64\"`\n",
    "- **Linux** (x86, headless): `\"path/to/Tennis_Linux_NoVis/Tennis.x86\"`\n",
    "- **Linux** (x86_64, headless): `\"path/to/Tennis_Linux_NoVis/Tennis.x86_64\"`\n",
    "\n",
    "For instance, if you are using a Mac, then you downloaded `Tennis.app`.  If this file is in the same folder as the notebook, then the line below should appear as follows:\n",
    "```\n",
    "env = UnityEnvironment(file_name=\"Tennis.app\")\n",
    "```"
   ]
  },
  {
   "cell_type": "code",
   "execution_count": 3,
   "metadata": {},
   "outputs": [
    {
     "name": "stderr",
     "output_type": "stream",
     "text": [
      "INFO:unityagents:\n",
      "'Academy' started successfully!\n",
      "Unity Academy name: Academy\n",
      "        Number of Brains: 1\n",
      "        Number of External Brains : 1\n",
      "        Lesson number : 0\n",
      "        Reset Parameters :\n",
      "\t\t\n",
      "Unity brain name: TennisBrain\n",
      "        Number of Visual Observations (per agent): 0\n",
      "        Vector Observation space type: continuous\n",
      "        Vector Observation space size (per agent): 8\n",
      "        Number of stacked Vector Observation: 3\n",
      "        Vector Action space type: continuous\n",
      "        Vector Action space size (per agent): 2\n",
      "        Vector Action descriptions: , \n"
     ]
    }
   ],
   "source": [
    "env = UnityEnvironment(file_name=\"./Tennis_Windows_x86_64/Tennis.exe\", no_graphics=True)"
   ]
  },
  {
   "cell_type": "markdown",
   "metadata": {},
   "source": [
    "Environments contain **_brains_** which are responsible for deciding the actions of their associated agents. Here we check for the first brain available, and set it as the default brain we will be controlling from Python."
   ]
  },
  {
   "cell_type": "code",
   "execution_count": 4,
   "metadata": {},
   "outputs": [
    {
     "name": "stdout",
     "output_type": "stream",
     "text": [
      "MADDPG module path: c:\\Users\\succi\\repos\\drl-tennis\\maddpg_agent_v2.py\n",
      "learn() md5: ec605d7c65ead7b83e87e41a6dbec1b4\n",
      "TAU: 0.001\n",
      "POLICY_DELAY: 2\n",
      "LR_ACTOR: 0.0001\n",
      "['    def learn(self):', '        obs_all, act_all, rew_all, next_obs_all, done_all = self.memory.sample()', '', '        self._learn_count = getattr(self, \"_learn_count\", 0) + 1', '', '        # Slice obs', '        o1 = obs_all[:, :self.state_size]', '        o2 = obs_all[:, self.state_size:]', '        next_o1 = next_obs_all[:, :self.state_size]', '        next_o2 = next_obs_all[:, self.state_size:]', '', '        # Target actions', '        a1_next = self.actors_target[0](next_o1)', '        a2_next = self.actors_target[1](next_o2)', '        with torch.no_grad():', '            n1 = (torch.randn_like(a1_next) * 0.2).clamp(-0.5, 0.5)', '            n2 = (torch.randn_like(a2_next) * 0.2).clamp(-0.5, 0.5)', '            a1_next = (a1_next + n1).clamp(-1, 1)', '            a2_next = (a2_next + n2).clamp(-1, 1)', '        a_all_next = torch.cat([a1_next, a2_next], dim=1)', '', '        # Per-agent rewards/dones (column vectors)', '        r1 = rew_all[:, 0:1]', '        r2 = rew_all[:, 1:2]', '        d1 = done_all[:, 0:1]', '        d2 = done_all[:, 1:2]', '', '        # ----- Critic updates (for each agent) -----', '        q1_next = self.critics_target[0](next_obs_all, a_all_next)', '        q2_next = self.critics_target[1](next_obs_all, a_all_next)', '', '        q1_target = r1 + GAMMA * (1. - d1) * q1_next', '        q2_target = r2 + GAMMA * (1. - d2) * q2_next', '', '        q1_expected = self.critics_local[0](obs_all, act_all)', '        q2_expected = self.critics_local[1](obs_all, act_all)', '', '        critic1_loss = F.mse_loss(q1_expected, q1_target.detach())', '        critic2_loss = F.mse_loss(q2_expected, q2_target.detach())', '', '        self.critics_opt[0].zero_grad()', '        critic1_loss.backward()', '        if CRITIC_CLIP_NORM is not None:', '            torch.nn.utils.clip_grad_norm_(self.critics_local[0].parameters(), CRITIC_CLIP_NORM)', '        self.critics_opt[0].step()', '', '        if self._learn_count % 100 == 0:', '            print(f\"Learn step {self._learn_count}: Critic1 loss: {critic1_loss.item():.4f}, Critic2 loss: {critic2_loss.item():.4f}\")', '', '        self.critics_opt[1].zero_grad()', '        critic2_loss.backward()', '        if CRITIC_CLIP_NORM is not None:', '            torch.nn.utils.clip_grad_norm_(self.critics_local[1].parameters(), CRITIC_CLIP_NORM)', '        self.critics_opt[1].step()', '', '        # ----- Actor updates (delayed) -----', '        self._update_count = getattr(self, \"_update_count\", 0) + 1', '        if self._update_count % POLICY_DELAY == 0:', '            a1 = self.actors_local[0](o1)', '            a2 = self.actors_local[1](o2)', '', '            # Stop-grad partner for each actor', '            with torch.no_grad():', '                a2_fixed = self.actors_local[1](o2)', '                a1_fixed = self.actors_local[0](o1)', '', '            # Actor 1 maximizes critic1', '            a_all_1 = torch.cat([a1, a2_fixed], dim=1)', '            actor1_loss = -self.critics_local[0](obs_all, a_all_1).mean() # + 1e-3 * (a1**2).mean()', '            self.actors_opt[0].zero_grad()', '            actor1_loss.backward()', '            if ACTOR_CLIP_NORM is not None:', '                torch.nn.utils.clip_grad_norm_(self.actors_local[0].parameters(), ACTOR_CLIP_NORM)', '            self.actors_opt[0].step()', '', '            # Actor 2 maximizes critic2', '            a_all_2 = torch.cat([a1_fixed, a2], dim=1)', '            actor2_loss = -self.critics_local[1](obs_all, a_all_2).mean() # + 1e-3 * (a2**2).mean()', '            self.actors_opt[1].zero_grad()', '            actor2_loss.backward()']\n"
     ]
    }
   ],
   "source": [
    "# get the default brain\n",
    "brain_name = env.brain_names[0]\n",
    "brain = env.brains[brain_name]\n",
    "\n",
    "\n",
    "import sys, importlib, inspect, hashlib\n",
    "import maddpg_agent_v2\n",
    "\n",
    "# 1) WHICH FILE is actually being imported?\n",
    "print(\"MADDPG module path:\", maddpg_agent_v2.__file__)\n",
    "\n",
    "# 2) DID the 'learn' body change? (fingerprint it)\n",
    "src = inspect.getsource(maddpg_agent_v2.MADDPG.learn).encode()\n",
    "print(\"learn() md5:\", hashlib.md5(src).hexdigest())\n",
    "\n",
    "# 3) WHAT hyperparams are in the module *right now*?\n",
    "print(\"TAU:\", maddpg_agent_v2.TAU)\n",
    "print(\"POLICY_DELAY:\", maddpg_agent_v2.POLICY_DELAY)\n",
    "print(\"LR_ACTOR:\", maddpg_agent_v2.LR_ACTOR)\n",
    "\n",
    "# 4) OPTIONAL: show the exact a_all_next logic line\n",
    "print(inspect.getsource(maddpg_agent_v2.MADDPG.learn).splitlines()[0:80])  # glance at smoothing code"
   ]
  },
  {
   "cell_type": "markdown",
   "metadata": {},
   "source": [
    "### 2. Examine the State and Action Spaces\n",
    "\n",
    "In this environment, two agents control rackets to bounce a ball over a net. If an agent hits the ball over the net, it receives a reward of +0.1.  If an agent lets a ball hit the ground or hits the ball out of bounds, it receives a reward of -0.01.  Thus, the goal of each agent is to keep the ball in play.\n",
    "\n",
    "The observation space consists of 8 variables corresponding to the position and velocity of the ball and racket. Two continuous actions are available, corresponding to movement toward (or away from) the net, and jumping. \n",
    "\n",
    "Run the code cell below to print some information about the environment."
   ]
  },
  {
   "cell_type": "code",
   "execution_count": 5,
   "metadata": {},
   "outputs": [
    {
     "name": "stdout",
     "output_type": "stream",
     "text": [
      "Number of agents: 2\n",
      "Size of each action: 2\n",
      "There are 2 agents. Each observes a state with length: 24\n",
      "The state for the first agent looks like: [ 0.          0.          0.          0.          0.          0.\n",
      "  0.          0.          0.          0.          0.          0.\n",
      "  0.          0.          0.          0.         -6.65278625 -1.5\n",
      " -0.          0.          6.83172083  6.         -0.          0.        ]\n"
     ]
    }
   ],
   "source": [
    "# reset the environment\n",
    "env_info = env.reset(train_mode=True)[brain_name]\n",
    "\n",
    "# number of agents \n",
    "num_agents = len(env_info.agents)\n",
    "print('Number of agents:', num_agents)\n",
    "\n",
    "# size of each action\n",
    "action_size = brain.vector_action_space_size\n",
    "print('Size of each action:', action_size)\n",
    "\n",
    "# examine the state space \n",
    "states = env_info.vector_observations\n",
    "state_size = states.shape[1]\n",
    "print('There are {} agents. Each observes a state with length: {}'.format(states.shape[0], state_size))\n",
    "print('The state for the first agent looks like:', states[0])\n",
    "\n",
    "#agent1 = Agent(state_size=state_size, action_size=action_size, random_seed=0,num_agents=1)\n",
    "#agent2 = Agent(state_size=state_size, action_size=action_size, random_seed=0,num_agents=1)\n",
    "\n",
    "maddpg = MADDPG(state_size, action_size, num_agents=2, random_seed=0)\n",
    "\n",
    "def plot_scores(scores, window=100, solved_score=30.0, savepath=None):\n",
    "    \"\"\"\n",
    "    Plot per-episode scores and a moving average.\n",
    "    Args:\n",
    "        scores (list[float]): one score per episode\n",
    "        window (int): moving-average window (Udacity uses 100)\n",
    "        solved_score (float): horizontal reference line (30 for Reacher)\n",
    "        savepath (str|None): if set, saves the figure to this path\n",
    "    \"\"\"\n",
    "    scores = np.asarray(scores, dtype=float)\n",
    "    episodes = np.arange(1, len(scores) + 1)\n",
    "\n",
    "    # moving average (uses cumulative average if fewer than window points)\n",
    "    if len(scores) >= window:\n",
    "        ma = np.convolve(scores, np.ones(window)/window, mode='valid')\n",
    "        ma_x = np.arange(window, len(scores) + 1)\n",
    "    else:\n",
    "        ma = np.cumsum(scores) / episodes\n",
    "        ma_x = episodes\n",
    "\n",
    "    fig, ax = plt.subplots()\n",
    "    ax.plot(episodes, scores, label=\"Score per episode\")\n",
    "    ax.plot(ma_x, ma, label=(f\"Moving avg ({window})\" if len(scores) >= window else \"Cumulative avg\"))\n",
    "    ax.set_xlabel(\"Episode\")\n",
    "    ax.set_ylabel(\"Score\")\n",
    "    ax.set_title(\"Training performance\")\n",
    "    ax.legend(loc=\"best\")\n",
    "    if solved_score is not None:\n",
    "        ax.axhline(solved_score, linestyle=\"--\", linewidth=1)\n",
    "    if savepath:\n",
    "        fig.savefig(savepath, dpi=150, bbox_inches=\"tight\")\n",
    "    plt.show()"
   ]
  },
  {
   "cell_type": "markdown",
   "metadata": {},
   "source": [
    "### 3. Take Random Actions in the Environment\n",
    "\n",
    "In the next code cell, you will learn how to use the Python API to control the agents and receive feedback from the environment.\n",
    "\n",
    "Once this cell is executed, you will watch the agents' performance, if they select actions at random with each time step.  A window should pop up that allows you to observe the agents.\n",
    "\n",
    "Of course, as part of the project, you'll have to change the code so that the agents are able to use their experiences to gradually choose better actions when interacting with the environment!"
   ]
  },
  {
   "cell_type": "code",
   "execution_count": 6,
   "metadata": {},
   "outputs": [
    {
     "name": "stdout",
     "output_type": "stream",
     "text": [
      "Episode 5\ta1 reward: 0.0000\ta2 reward: 0.0900\t Avg(100): 0.0380\t steps: 104\n",
      "Episode 10\ta1 reward: 0.0000\ta2 reward: -0.0100\t Avg(100): 0.0290\t steps: 194\n",
      "Episode 15\ta1 reward: 0.0000\ta2 reward: -0.0100\t Avg(100): 0.0253\t steps: 280\n",
      "Episode 20\ta1 reward: -0.0100\ta2 reward: 0.0000\t Avg(100): 0.0240\t steps: 367\n",
      "Episode 25\ta1 reward: -0.0100\ta2 reward: 0.0000\t Avg(100): 0.0192\t steps: 439\n",
      "Episode 30\ta1 reward: 0.0000\ta2 reward: -0.0100\t Avg(100): 0.0223\t steps: 536\n",
      "Episode 35\ta1 reward: -0.0100\ta2 reward: 0.0000\t Avg(100): 0.0191\t steps: 607\n",
      "Episode 40\ta1 reward: 0.0000\ta2 reward: -0.0100\t Avg(100): 0.0168\t steps: 678\n",
      "Episode 45\ta1 reward: -0.0100\ta2 reward: 0.1000\t Avg(100): 0.0171\t steps: 786\n",
      "Episode 50\ta1 reward: -0.0100\ta2 reward: 0.0000\t Avg(100): 0.0154\t steps: 857\n",
      "Episode 55\ta1 reward: 0.0000\ta2 reward: -0.0100\t Avg(100): 0.0140\t steps: 928\n",
      "Episode 60\ta1 reward: 0.0000\ta2 reward: -0.0100\t Avg(100): 0.0128\t steps: 999\n",
      "Episode 65\ta1 reward: -0.0100\ta2 reward: 0.0000\t Avg(100): 0.0118\t steps: 1087\n",
      "Learn step 100: Critic1 loss: 0.0003, Critic2 loss: 0.0003\n",
      "Learn step 100: Actor1 loss: -0.0886, Actor2 loss: -0.0869\n",
      "Episode 70\ta1 reward: -0.0100\ta2 reward: 0.0000\t Avg(100): 0.0110\t steps: 1157\n",
      "Learn step 200: Critic1 loss: 0.0001, Critic2 loss: 0.0001\n",
      "Learn step 200: Actor1 loss: -0.1103, Actor2 loss: -0.1095\n",
      "Episode 75\ta1 reward: -0.0100\ta2 reward: 0.0000\t Avg(100): 0.0129\t steps: 1289\n",
      "Learn step 300: Critic1 loss: 0.0001, Critic2 loss: 0.0001\n",
      "Learn step 300: Actor1 loss: -0.1168, Actor2 loss: -0.1198\n",
      "Episode 80\ta1 reward: -0.0100\ta2 reward: 0.0000\t Avg(100): 0.0121\t steps: 1361\n",
      "Learn step 400: Critic1 loss: 0.0001, Critic2 loss: 0.0001\n",
      "Learn step 400: Actor1 loss: -0.1248, Actor2 loss: -0.1243\n",
      "Episode 85\ta1 reward: -0.0100\ta2 reward: 0.0000\t Avg(100): 0.0114\t steps: 1433\n",
      "Learn step 500: Critic1 loss: 0.0001, Critic2 loss: 0.0001\n",
      "Learn step 500: Actor1 loss: -0.1270, Actor2 loss: -0.1295\n",
      "Episode 90\ta1 reward: 0.0000\ta2 reward: -0.0100\t Avg(100): 0.0108\t steps: 1504\n",
      "Episode 95\ta1 reward: -0.0100\ta2 reward: 0.0000\t Avg(100): 0.0113\t steps: 1586\n",
      "Learn step 600: Critic1 loss: 0.0002, Critic2 loss: 0.0002\n",
      "Learn step 600: Actor1 loss: -0.1299, Actor2 loss: -0.1267\n",
      "Episode 100\ta1 reward: 0.0000\ta2 reward: -0.0100\t Avg(100): 0.0107\t steps: 1660\n",
      "Learn step 700: Critic1 loss: 0.0001, Critic2 loss: 0.0001\n",
      "Learn step 700: Actor1 loss: -0.1243, Actor2 loss: -0.1269\n",
      "Episode 105\ta1 reward: -0.0100\ta2 reward: 0.0000\t Avg(100): 0.0088\t steps: 1734\n",
      "Learn step 800: Critic1 loss: 0.0001, Critic2 loss: 0.0001\n",
      "Learn step 800: Actor1 loss: -0.1323, Actor2 loss: -0.1394\n",
      "Episode 110\ta1 reward: -0.0100\ta2 reward: 0.0000\t Avg(100): 0.0078\t steps: 1810\n",
      "Learn step 900: Critic1 loss: 0.0001, Critic2 loss: 0.0001\n",
      "Learn step 900: Actor1 loss: -0.1272, Actor2 loss: -0.1271\n",
      "Episode 115\ta1 reward: -0.0100\ta2 reward: 0.1000\t Avg(100): 0.0088\t steps: 1913\n",
      "Episode 120\ta1 reward: 0.0000\ta2 reward: -0.0100\t Avg(100): 0.0088\t steps: 1995\n",
      "Learn step 1000: Critic1 loss: 0.0001, Critic2 loss: 0.0001\n",
      "Learn step 1000: Actor1 loss: -0.1346, Actor2 loss: -0.1361\n",
      "Episode 125\ta1 reward: -0.0100\ta2 reward: 0.0000\t Avg(100): 0.0088\t steps: 2066\n",
      "Learn step 1100: Critic1 loss: 0.0001, Critic2 loss: 0.0002\n",
      "Learn step 1100: Actor1 loss: -0.1261, Actor2 loss: -0.1319\n",
      "Episode 130\ta1 reward: 0.0000\ta2 reward: -0.0100\t Avg(100): 0.0069\t steps: 2137\n",
      "Learn step 1200: Critic1 loss: 0.0001, Critic2 loss: 0.0001\n",
      "Learn step 1200: Actor1 loss: -0.1280, Actor2 loss: -0.1356\n",
      "Episode 135\ta1 reward: 0.0000\ta2 reward: -0.0100\t Avg(100): 0.0069\t steps: 2208\n",
      "Episode 140\ta1 reward: -0.0100\ta2 reward: 0.0000\t Avg(100): 0.0069\t steps: 2279\n",
      "Learn step 1300: Critic1 loss: 0.0001, Critic2 loss: 0.0001\n",
      "Learn step 1300: Actor1 loss: -0.1229, Actor2 loss: -0.1247\n",
      "Episode 145\ta1 reward: -0.0100\ta2 reward: 0.0000\t Avg(100): 0.0059\t steps: 2350\n",
      "Learn step 1400: Critic1 loss: 0.0001, Critic2 loss: 0.0001\n",
      "Learn step 1400: Actor1 loss: -0.1314, Actor2 loss: -0.1357\n",
      "Episode 150\ta1 reward: 0.0000\ta2 reward: -0.0100\t Avg(100): 0.0059\t steps: 2421\n",
      "Episode 155\ta1 reward: -0.0100\ta2 reward: 0.0000\t Avg(100): 0.0059\t steps: 2492\n",
      "Learn step 1500: Critic1 loss: 0.0001, Critic2 loss: 0.0001\n",
      "Learn step 1500: Actor1 loss: -0.1307, Actor2 loss: -0.1398\n",
      "Episode 160\ta1 reward: 0.0000\ta2 reward: -0.0100\t Avg(100): 0.0059\t steps: 2563\n",
      "Learn step 1600: Critic1 loss: 0.0000, Critic2 loss: 0.0000\n",
      "Learn step 1600: Actor1 loss: -0.1228, Actor2 loss: -0.1307\n",
      "Episode 165\ta1 reward: 0.0000\ta2 reward: -0.0100\t Avg(100): 0.0059\t steps: 2634\n",
      "Learn step 1700: Critic1 loss: 0.0000, Critic2 loss: 0.0001\n",
      "Learn step 1700: Actor1 loss: -0.1217, Actor2 loss: -0.1290\n",
      "Episode 170\ta1 reward: -0.0100\ta2 reward: 0.0000\t Avg(100): 0.0059\t steps: 2705\n",
      "Episode 175\ta1 reward: 0.0000\ta2 reward: -0.0100\t Avg(100): 0.0039\t steps: 2776\n",
      "Learn step 1800: Critic1 loss: 0.0000, Critic2 loss: 0.0000\n",
      "Learn step 1800: Actor1 loss: -0.1130, Actor2 loss: -0.1165\n",
      "Episode 180\ta1 reward: -0.0100\ta2 reward: 0.0000\t Avg(100): 0.0039\t steps: 2847\n",
      "Learn step 1900: Critic1 loss: 0.0001, Critic2 loss: 0.0000\n",
      "Learn step 1900: Actor1 loss: -0.1124, Actor2 loss: -0.1178\n",
      "Episode 185\ta1 reward: -0.0100\ta2 reward: 0.0000\t Avg(100): 0.0039\t steps: 2918\n",
      "Episode 190\ta1 reward: 0.0000\ta2 reward: -0.0100\t Avg(100): 0.0039\t steps: 2989\n",
      "Learn step 2000: Critic1 loss: 0.0000, Critic2 loss: 0.0000\n",
      "Learn step 2000: Actor1 loss: -0.1170, Actor2 loss: -0.1247\n",
      "Episode 195\ta1 reward: 0.0000\ta2 reward: -0.0100\t Avg(100): 0.0029\t steps: 3060\n",
      "Learn step 2100: Critic1 loss: 0.0000, Critic2 loss: 0.0000\n",
      "Learn step 2100: Actor1 loss: -0.1180, Actor2 loss: -0.1245\n",
      "Episode 200\ta1 reward: -0.0100\ta2 reward: 0.0000\t Avg(100): 0.0029\t steps: 3131\n",
      "Learn step 2200: Critic1 loss: 0.0000, Critic2 loss: 0.0000\n",
      "Learn step 2200: Actor1 loss: -0.1211, Actor2 loss: -0.1317\n",
      "Episode 205\ta1 reward: 0.0000\ta2 reward: -0.0100\t Avg(100): 0.0029\t steps: 3202\n",
      "Episode 210\ta1 reward: -0.0100\ta2 reward: 0.0000\t Avg(100): 0.0029\t steps: 3273\n",
      "Learn step 2300: Critic1 loss: 0.0000, Critic2 loss: 0.0000\n",
      "Learn step 2300: Actor1 loss: -0.1083, Actor2 loss: -0.1164\n",
      "Episode 215\ta1 reward: 0.0000\ta2 reward: -0.0100\t Avg(100): 0.0010\t steps: 3344\n",
      "Learn step 2400: Critic1 loss: 0.0000, Critic2 loss: 0.0000\n",
      "Learn step 2400: Actor1 loss: -0.1147, Actor2 loss: -0.1242\n",
      "Episode 220\ta1 reward: 0.0000\ta2 reward: -0.0100\t Avg(100): 0.0000\t steps: 3415\n",
      "Episode 225\ta1 reward: -0.0100\ta2 reward: 0.0000\t Avg(100): 0.0000\t steps: 3486\n",
      "Learn step 2500: Critic1 loss: 0.0000, Critic2 loss: 0.0000\n",
      "Learn step 2500: Actor1 loss: -0.1073, Actor2 loss: -0.1125\n"
     ]
    },
    {
     "ename": "KeyboardInterrupt",
     "evalue": "",
     "output_type": "error",
     "traceback": [
      "\u001b[1;31m---------------------------------------------------------------------------\u001b[0m",
      "\u001b[1;31mKeyboardInterrupt\u001b[0m                         Traceback (most recent call last)",
      "\u001b[1;32m<ipython-input-6-7704a1ddf7ae>\u001b[0m in \u001b[0;36m<module>\u001b[1;34m\u001b[0m\n\u001b[0;32m     52\u001b[0m \u001b[1;33m\u001b[0m\u001b[0m\n\u001b[0;32m     53\u001b[0m \u001b[1;33m\u001b[0m\u001b[0m\n\u001b[1;32m---> 54\u001b[1;33m \u001b[0mscores\u001b[0m \u001b[1;33m=\u001b[0m \u001b[0mddpg\u001b[0m\u001b[1;33m(\u001b[0m\u001b[1;33m)\u001b[0m\u001b[1;33m\u001b[0m\u001b[1;33m\u001b[0m\u001b[0m\n\u001b[0m\u001b[0;32m     55\u001b[0m \u001b[1;33m\u001b[0m\u001b[0m\n\u001b[0;32m     56\u001b[0m \u001b[0mplot_scores\u001b[0m\u001b[1;33m(\u001b[0m\u001b[0mscores\u001b[0m\u001b[1;33m,\u001b[0m \u001b[0mwindow\u001b[0m\u001b[1;33m=\u001b[0m\u001b[1;36m100\u001b[0m\u001b[1;33m,\u001b[0m \u001b[0msolved_score\u001b[0m\u001b[1;33m=\u001b[0m\u001b[1;36m.5\u001b[0m\u001b[1;33m,\u001b[0m \u001b[0msavepath\u001b[0m\u001b[1;33m=\u001b[0m\u001b[1;34m\"tennis_scores.png\"\u001b[0m\u001b[1;33m)\u001b[0m\u001b[1;33m\u001b[0m\u001b[1;33m\u001b[0m\u001b[0m\n",
      "\u001b[1;32m<ipython-input-6-7704a1ddf7ae>\u001b[0m in \u001b[0;36mddpg\u001b[1;34m(n_episodes, print_every)\u001b[0m\n\u001b[0;32m     19\u001b[0m             \u001b[0mdones\u001b[0m       \u001b[1;33m=\u001b[0m \u001b[0menv_info\u001b[0m\u001b[1;33m.\u001b[0m\u001b[0mlocal_done\u001b[0m            \u001b[1;31m# [d1, d2]\u001b[0m\u001b[1;33m\u001b[0m\u001b[1;33m\u001b[0m\u001b[0m\n\u001b[0;32m     20\u001b[0m \u001b[1;33m\u001b[0m\u001b[0m\n\u001b[1;32m---> 21\u001b[1;33m             \u001b[0mmaddpg\u001b[0m\u001b[1;33m.\u001b[0m\u001b[0mstep\u001b[0m\u001b[1;33m(\u001b[0m\u001b[0mstates\u001b[0m\u001b[1;33m,\u001b[0m \u001b[0mactions\u001b[0m\u001b[1;33m,\u001b[0m \u001b[0mrewards\u001b[0m\u001b[1;33m,\u001b[0m \u001b[0mnext_states\u001b[0m\u001b[1;33m,\u001b[0m \u001b[0mdones\u001b[0m\u001b[1;33m)\u001b[0m\u001b[1;33m\u001b[0m\u001b[1;33m\u001b[0m\u001b[0m\n\u001b[0m\u001b[0;32m     22\u001b[0m \u001b[1;33m\u001b[0m\u001b[0m\n\u001b[0;32m     23\u001b[0m             \u001b[0mep_ret_1\u001b[0m \u001b[1;33m+=\u001b[0m \u001b[0mrewards\u001b[0m\u001b[1;33m[\u001b[0m\u001b[1;36m0\u001b[0m\u001b[1;33m]\u001b[0m\u001b[1;33m\u001b[0m\u001b[1;33m\u001b[0m\u001b[0m\n",
      "\u001b[1;32mc:\\Users\\succi\\repos\\drl-tennis\\maddpg_agent_v2.py\u001b[0m in \u001b[0;36mstep\u001b[1;34m(self, states, actions, rewards, next_states, dones)\u001b[0m\n\u001b[0;32m    195\u001b[0m         \u001b[1;32mif\u001b[0m \u001b[0mself\u001b[0m\u001b[1;33m.\u001b[0m\u001b[0mt_step\u001b[0m \u001b[1;33m==\u001b[0m \u001b[1;36m0\u001b[0m \u001b[1;32mand\u001b[0m \u001b[0mlen\u001b[0m\u001b[1;33m(\u001b[0m\u001b[0mself\u001b[0m\u001b[1;33m.\u001b[0m\u001b[0mmemory\u001b[0m\u001b[1;33m)\u001b[0m \u001b[1;33m>\u001b[0m \u001b[0mBATCH_SIZE\u001b[0m \u001b[1;32mand\u001b[0m \u001b[0mself\u001b[0m\u001b[1;33m.\u001b[0m\u001b[0mtotal_steps\u001b[0m \u001b[1;33m>\u001b[0m \u001b[0mLEARN_AFTER_STEPS\u001b[0m\u001b[1;33m:\u001b[0m\u001b[1;33m\u001b[0m\u001b[1;33m\u001b[0m\u001b[0m\n\u001b[0;32m    196\u001b[0m             \u001b[1;32mfor\u001b[0m \u001b[0m_\u001b[0m \u001b[1;32min\u001b[0m \u001b[0mrange\u001b[0m\u001b[1;33m(\u001b[0m\u001b[0mUPDATES_PER_STEP\u001b[0m\u001b[1;33m)\u001b[0m\u001b[1;33m:\u001b[0m\u001b[1;33m\u001b[0m\u001b[1;33m\u001b[0m\u001b[0m\n\u001b[1;32m--> 197\u001b[1;33m                 \u001b[0mself\u001b[0m\u001b[1;33m.\u001b[0m\u001b[0mlearn\u001b[0m\u001b[1;33m(\u001b[0m\u001b[1;33m)\u001b[0m\u001b[1;33m\u001b[0m\u001b[1;33m\u001b[0m\u001b[0m\n\u001b[0m\u001b[0;32m    198\u001b[0m \u001b[1;33m\u001b[0m\u001b[0m\n\u001b[0;32m    199\u001b[0m     \u001b[1;32mdef\u001b[0m \u001b[0mlearn\u001b[0m\u001b[1;33m(\u001b[0m\u001b[0mself\u001b[0m\u001b[1;33m)\u001b[0m\u001b[1;33m:\u001b[0m\u001b[1;33m\u001b[0m\u001b[1;33m\u001b[0m\u001b[0m\n",
      "\u001b[1;32mc:\\Users\\succi\\repos\\drl-tennis\\maddpg_agent_v2.py\u001b[0m in \u001b[0;36mlearn\u001b[1;34m(self)\u001b[0m\n\u001b[0;32m    267\u001b[0m             \u001b[0mactor1_loss\u001b[0m \u001b[1;33m=\u001b[0m \u001b[1;33m-\u001b[0m\u001b[0mself\u001b[0m\u001b[1;33m.\u001b[0m\u001b[0mcritics_local\u001b[0m\u001b[1;33m[\u001b[0m\u001b[1;36m0\u001b[0m\u001b[1;33m]\u001b[0m\u001b[1;33m(\u001b[0m\u001b[0mobs_all\u001b[0m\u001b[1;33m,\u001b[0m \u001b[0ma_all_1\u001b[0m\u001b[1;33m)\u001b[0m\u001b[1;33m.\u001b[0m\u001b[0mmean\u001b[0m\u001b[1;33m(\u001b[0m\u001b[1;33m)\u001b[0m \u001b[1;31m# + 1e-3 * (a1**2).mean()\u001b[0m\u001b[1;33m\u001b[0m\u001b[1;33m\u001b[0m\u001b[0m\n\u001b[0;32m    268\u001b[0m             \u001b[0mself\u001b[0m\u001b[1;33m.\u001b[0m\u001b[0mactors_opt\u001b[0m\u001b[1;33m[\u001b[0m\u001b[1;36m0\u001b[0m\u001b[1;33m]\u001b[0m\u001b[1;33m.\u001b[0m\u001b[0mzero_grad\u001b[0m\u001b[1;33m(\u001b[0m\u001b[1;33m)\u001b[0m\u001b[1;33m\u001b[0m\u001b[1;33m\u001b[0m\u001b[0m\n\u001b[1;32m--> 269\u001b[1;33m             \u001b[0mactor1_loss\u001b[0m\u001b[1;33m.\u001b[0m\u001b[0mbackward\u001b[0m\u001b[1;33m(\u001b[0m\u001b[1;33m)\u001b[0m\u001b[1;33m\u001b[0m\u001b[1;33m\u001b[0m\u001b[0m\n\u001b[0m\u001b[0;32m    270\u001b[0m             \u001b[1;32mif\u001b[0m \u001b[0mACTOR_CLIP_NORM\u001b[0m \u001b[1;32mis\u001b[0m \u001b[1;32mnot\u001b[0m \u001b[1;32mNone\u001b[0m\u001b[1;33m:\u001b[0m\u001b[1;33m\u001b[0m\u001b[1;33m\u001b[0m\u001b[0m\n\u001b[0;32m    271\u001b[0m                 \u001b[0mtorch\u001b[0m\u001b[1;33m.\u001b[0m\u001b[0mnn\u001b[0m\u001b[1;33m.\u001b[0m\u001b[0mutils\u001b[0m\u001b[1;33m.\u001b[0m\u001b[0mclip_grad_norm_\u001b[0m\u001b[1;33m(\u001b[0m\u001b[0mself\u001b[0m\u001b[1;33m.\u001b[0m\u001b[0mactors_local\u001b[0m\u001b[1;33m[\u001b[0m\u001b[1;36m0\u001b[0m\u001b[1;33m]\u001b[0m\u001b[1;33m.\u001b[0m\u001b[0mparameters\u001b[0m\u001b[1;33m(\u001b[0m\u001b[1;33m)\u001b[0m\u001b[1;33m,\u001b[0m \u001b[0mACTOR_CLIP_NORM\u001b[0m\u001b[1;33m)\u001b[0m\u001b[1;33m\u001b[0m\u001b[1;33m\u001b[0m\u001b[0m\n",
      "\u001b[1;32mc:\\Users\\succi\\anaconda3\\envs\\drlnd\\lib\\site-packages\\torch\\tensor.py\u001b[0m in \u001b[0;36mbackward\u001b[1;34m(self, gradient, retain_graph, create_graph)\u001b[0m\n\u001b[0;32m     91\u001b[0m                 \u001b[0mproducts\u001b[0m\u001b[1;33m.\u001b[0m \u001b[0mDefaults\u001b[0m \u001b[0mto\u001b[0m\u001b[0;31m \u001b[0m\u001b[0;31m`\u001b[0m\u001b[0;31m`\u001b[0m\u001b[1;32mFalse\u001b[0m\u001b[0;31m`\u001b[0m\u001b[0;31m`\u001b[0m\u001b[1;33m.\u001b[0m\u001b[1;33m\u001b[0m\u001b[1;33m\u001b[0m\u001b[0m\n\u001b[0;32m     92\u001b[0m         \"\"\"\n\u001b[1;32m---> 93\u001b[1;33m         \u001b[0mtorch\u001b[0m\u001b[1;33m.\u001b[0m\u001b[0mautograd\u001b[0m\u001b[1;33m.\u001b[0m\u001b[0mbackward\u001b[0m\u001b[1;33m(\u001b[0m\u001b[0mself\u001b[0m\u001b[1;33m,\u001b[0m \u001b[0mgradient\u001b[0m\u001b[1;33m,\u001b[0m \u001b[0mretain_graph\u001b[0m\u001b[1;33m,\u001b[0m \u001b[0mcreate_graph\u001b[0m\u001b[1;33m)\u001b[0m\u001b[1;33m\u001b[0m\u001b[1;33m\u001b[0m\u001b[0m\n\u001b[0m\u001b[0;32m     94\u001b[0m \u001b[1;33m\u001b[0m\u001b[0m\n\u001b[0;32m     95\u001b[0m     \u001b[1;32mdef\u001b[0m \u001b[0mregister_hook\u001b[0m\u001b[1;33m(\u001b[0m\u001b[0mself\u001b[0m\u001b[1;33m,\u001b[0m \u001b[0mhook\u001b[0m\u001b[1;33m)\u001b[0m\u001b[1;33m:\u001b[0m\u001b[1;33m\u001b[0m\u001b[1;33m\u001b[0m\u001b[0m\n",
      "\u001b[1;32mc:\\Users\\succi\\anaconda3\\envs\\drlnd\\lib\\site-packages\\torch\\autograd\\__init__.py\u001b[0m in \u001b[0;36mbackward\u001b[1;34m(tensors, grad_tensors, retain_graph, create_graph, grad_variables)\u001b[0m\n\u001b[0;32m     88\u001b[0m     Variable._execution_engine.run_backward(\n\u001b[0;32m     89\u001b[0m         \u001b[0mtensors\u001b[0m\u001b[1;33m,\u001b[0m \u001b[0mgrad_tensors\u001b[0m\u001b[1;33m,\u001b[0m \u001b[0mretain_graph\u001b[0m\u001b[1;33m,\u001b[0m \u001b[0mcreate_graph\u001b[0m\u001b[1;33m,\u001b[0m\u001b[1;33m\u001b[0m\u001b[1;33m\u001b[0m\u001b[0m\n\u001b[1;32m---> 90\u001b[1;33m         allow_unreachable=True)  # allow_unreachable flag\n\u001b[0m\u001b[0;32m     91\u001b[0m \u001b[1;33m\u001b[0m\u001b[0m\n\u001b[0;32m     92\u001b[0m \u001b[1;33m\u001b[0m\u001b[0m\n",
      "\u001b[1;31mKeyboardInterrupt\u001b[0m: "
     ]
    }
   ],
   "source": [
    "def ddpg(n_episodes=2000, print_every=100):\n",
    "    scores_deque = deque(maxlen=100)     # 100-episode window\n",
    "    scores = []                          # episode scores (one scalar per episode)\n",
    "\n",
    "    for i_episode in range(1, n_episodes+1):\n",
    "        env_info = env.reset(train_mode=True)[brain_name]\n",
    "        states = env_info.vector_observations                      # shape: (2, state_size)\n",
    "        maddpg.reset()\n",
    "\n",
    "        ep_ret_1 = 0.0\n",
    "        ep_ret_2 = 0.0\n",
    "\n",
    "        while True:\n",
    "            actions = maddpg.act(states)                # (2, action_size), float32 in [-1,1]\n",
    "            #print(f\"\\rEpisode: {i_episode}\\tactions: {actions}\")\n",
    "            env_info   = env.step(actions)[brain_name]\n",
    "            next_states = env_info.vector_observations\n",
    "            rewards     = env_info.rewards               # [r1, r2]\n",
    "            dones       = env_info.local_done            # [d1, d2]\n",
    "\n",
    "            maddpg.step(states, actions, rewards, next_states, dones)\n",
    "\n",
    "            ep_ret_1 += rewards[0]\n",
    "            ep_ret_2 += rewards[1]\n",
    "            states = next_states\n",
    "\n",
    "            if np.any(dones):\n",
    "                break\n",
    "\n",
    "        # Udacity Tennis uses the max of the two agents per episode\n",
    "        ep_score = max(ep_ret_1, ep_ret_2)     \n",
    "        scores_deque.append(ep_score)\n",
    "        scores.append(ep_score)\n",
    "\n",
    "        avg100 = np.mean(scores_deque)\n",
    "        #print(f\"\\rEpisode {i_episode}\\tScore: {ep_score:.4f}\\tAvg(100): {avg100:.4f}\", end=\"\")\n",
    "        if i_episode % 5 == 0:\n",
    "            print(f\"\\rEpisode {i_episode}\\ta1 reward: {ep_ret_1:.4f}\\ta2 reward: {ep_ret_2:.4f}\\t Avg(100): {avg100:.4f}\\t steps: {maddpg.total_steps}\")\n",
    "\n",
    "        # Solve when moving average over last 100 episodes >= 0.5\n",
    "        if len(scores_deque) == 100 and avg100 >= 0.5:\n",
    "            print(f\"\\n\\nEnvironment solved in {i_episode} episodes!\\tAvg(100): {avg100:.4f}\")\n",
    "            torch.save(maddpg.actors_local[0].state_dict(), 'actor1.pth')\n",
    "            torch.save(maddpg.actors_local[1].state_dict(), 'actor2.pth')\n",
    "            torch.save(maddpg.critics_local[0].state_dict(), 'critic1.pth')\n",
    "            torch.save(maddpg.critics_local[1].state_dict(), 'critic2.pth')\n",
    "\n",
    "            break\n",
    "\n",
    "    return scores\n",
    "\n",
    "\n",
    "\n",
    "scores = ddpg()\n",
    "\n",
    "plot_scores(scores, window=100, solved_score=.5, savepath=\"tennis_scores.png\")"
   ]
  },
  {
   "cell_type": "markdown",
   "metadata": {},
   "source": [
    "When finished, you can close the environment."
   ]
  },
  {
   "cell_type": "code",
   "execution_count": 7,
   "metadata": {},
   "outputs": [],
   "source": [
    "env.close()"
   ]
  },
  {
   "cell_type": "markdown",
   "metadata": {},
   "source": [
    "### 4. It's Your Turn!\n",
    "\n",
    "Now it's your turn to train your own agent to solve the environment!  When training the environment, set `train_mode=True`, so that the line for resetting the environment looks like the following:\n",
    "```python\n",
    "env_info = env.reset(train_mode=True)[brain_name]\n",
    "```"
   ]
  }
 ],
 "metadata": {
  "kernelspec": {
   "display_name": "drlnd",
   "language": "python",
   "name": "drlnd"
  },
  "language_info": {
   "codemirror_mode": {
    "name": "ipython",
    "version": 3
   },
   "file_extension": ".py",
   "mimetype": "text/x-python",
   "name": "python",
   "nbconvert_exporter": "python",
   "pygments_lexer": "ipython3",
   "version": "3.6.13"
  }
 },
 "nbformat": 4,
 "nbformat_minor": 2
}
